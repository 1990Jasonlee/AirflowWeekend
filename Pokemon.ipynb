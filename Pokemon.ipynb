{
 "cells": [
  {
   "cell_type": "code",
   "execution_count": 1,
   "id": "d1025d75-6c66-439b-aa55-3521f8ca7969",
   "metadata": {},
   "outputs": [],
   "source": [
    "import pandas as pd\n",
    "import numpy as np"
   ]
  },
  {
   "cell_type": "code",
   "execution_count": 6,
   "id": "17b64828-4703-4afa-ad82-9db4243ba4c4",
   "metadata": {},
   "outputs": [],
   "source": [
    "data = pd.read_csv('./data/pokedex.csv')"
   ]
  },
  {
   "cell_type": "code",
   "execution_count": 7,
   "id": "55b03123-3330-48ae-9d43-7b639d7f16c2",
   "metadata": {},
   "outputs": [
    {
     "data": {
      "text/html": [
       "<div>\n",
       "<style scoped>\n",
       "    .dataframe tbody tr th:only-of-type {\n",
       "        vertical-align: middle;\n",
       "    }\n",
       "\n",
       "    .dataframe tbody tr th {\n",
       "        vertical-align: top;\n",
       "    }\n",
       "\n",
       "    .dataframe thead th {\n",
       "        text-align: right;\n",
       "    }\n",
       "</style>\n",
       "<table border=\"1\" class=\"dataframe\">\n",
       "  <thead>\n",
       "    <tr style=\"text-align: right;\">\n",
       "      <th></th>\n",
       "      <th>Unnamed: 0</th>\n",
       "      <th>pokedex_number</th>\n",
       "      <th>name</th>\n",
       "      <th>german_name</th>\n",
       "      <th>japanese_name</th>\n",
       "      <th>generation</th>\n",
       "      <th>status</th>\n",
       "      <th>species</th>\n",
       "      <th>type_number</th>\n",
       "      <th>type_1</th>\n",
       "      <th>...</th>\n",
       "      <th>against_ground</th>\n",
       "      <th>against_flying</th>\n",
       "      <th>against_psychic</th>\n",
       "      <th>against_bug</th>\n",
       "      <th>against_rock</th>\n",
       "      <th>against_ghost</th>\n",
       "      <th>against_dragon</th>\n",
       "      <th>against_dark</th>\n",
       "      <th>against_steel</th>\n",
       "      <th>against_fairy</th>\n",
       "    </tr>\n",
       "  </thead>\n",
       "  <tbody>\n",
       "    <tr>\n",
       "      <th>0</th>\n",
       "      <td>0</td>\n",
       "      <td>1</td>\n",
       "      <td>Bulbasaur</td>\n",
       "      <td>Bisasam</td>\n",
       "      <td>フシギダネ (Fushigidane)</td>\n",
       "      <td>1</td>\n",
       "      <td>Normal</td>\n",
       "      <td>Seed Pokémon</td>\n",
       "      <td>2</td>\n",
       "      <td>Grass</td>\n",
       "      <td>...</td>\n",
       "      <td>1.0</td>\n",
       "      <td>2.0</td>\n",
       "      <td>2.0</td>\n",
       "      <td>1.0</td>\n",
       "      <td>1.0</td>\n",
       "      <td>1.0</td>\n",
       "      <td>1.0</td>\n",
       "      <td>1.0</td>\n",
       "      <td>1.0</td>\n",
       "      <td>0.5</td>\n",
       "    </tr>\n",
       "    <tr>\n",
       "      <th>1</th>\n",
       "      <td>1</td>\n",
       "      <td>2</td>\n",
       "      <td>Ivysaur</td>\n",
       "      <td>Bisaknosp</td>\n",
       "      <td>フシギソウ (Fushigisou)</td>\n",
       "      <td>1</td>\n",
       "      <td>Normal</td>\n",
       "      <td>Seed Pokémon</td>\n",
       "      <td>2</td>\n",
       "      <td>Grass</td>\n",
       "      <td>...</td>\n",
       "      <td>1.0</td>\n",
       "      <td>2.0</td>\n",
       "      <td>2.0</td>\n",
       "      <td>1.0</td>\n",
       "      <td>1.0</td>\n",
       "      <td>1.0</td>\n",
       "      <td>1.0</td>\n",
       "      <td>1.0</td>\n",
       "      <td>1.0</td>\n",
       "      <td>0.5</td>\n",
       "    </tr>\n",
       "    <tr>\n",
       "      <th>2</th>\n",
       "      <td>2</td>\n",
       "      <td>3</td>\n",
       "      <td>Venusaur</td>\n",
       "      <td>Bisaflor</td>\n",
       "      <td>フシギバナ (Fushigibana)</td>\n",
       "      <td>1</td>\n",
       "      <td>Normal</td>\n",
       "      <td>Seed Pokémon</td>\n",
       "      <td>2</td>\n",
       "      <td>Grass</td>\n",
       "      <td>...</td>\n",
       "      <td>1.0</td>\n",
       "      <td>2.0</td>\n",
       "      <td>2.0</td>\n",
       "      <td>1.0</td>\n",
       "      <td>1.0</td>\n",
       "      <td>1.0</td>\n",
       "      <td>1.0</td>\n",
       "      <td>1.0</td>\n",
       "      <td>1.0</td>\n",
       "      <td>0.5</td>\n",
       "    </tr>\n",
       "    <tr>\n",
       "      <th>3</th>\n",
       "      <td>3</td>\n",
       "      <td>3</td>\n",
       "      <td>Mega Venusaur</td>\n",
       "      <td>Bisaflor</td>\n",
       "      <td>フシギバナ (Fushigibana)</td>\n",
       "      <td>1</td>\n",
       "      <td>Normal</td>\n",
       "      <td>Seed Pokémon</td>\n",
       "      <td>2</td>\n",
       "      <td>Grass</td>\n",
       "      <td>...</td>\n",
       "      <td>1.0</td>\n",
       "      <td>2.0</td>\n",
       "      <td>2.0</td>\n",
       "      <td>1.0</td>\n",
       "      <td>1.0</td>\n",
       "      <td>1.0</td>\n",
       "      <td>1.0</td>\n",
       "      <td>1.0</td>\n",
       "      <td>1.0</td>\n",
       "      <td>0.5</td>\n",
       "    </tr>\n",
       "    <tr>\n",
       "      <th>4</th>\n",
       "      <td>4</td>\n",
       "      <td>4</td>\n",
       "      <td>Charmander</td>\n",
       "      <td>Glumanda</td>\n",
       "      <td>ヒトカゲ (Hitokage)</td>\n",
       "      <td>1</td>\n",
       "      <td>Normal</td>\n",
       "      <td>Lizard Pokémon</td>\n",
       "      <td>1</td>\n",
       "      <td>Fire</td>\n",
       "      <td>...</td>\n",
       "      <td>2.0</td>\n",
       "      <td>1.0</td>\n",
       "      <td>1.0</td>\n",
       "      <td>0.5</td>\n",
       "      <td>2.0</td>\n",
       "      <td>1.0</td>\n",
       "      <td>1.0</td>\n",
       "      <td>1.0</td>\n",
       "      <td>0.5</td>\n",
       "      <td>0.5</td>\n",
       "    </tr>\n",
       "  </tbody>\n",
       "</table>\n",
       "<p>5 rows × 51 columns</p>\n",
       "</div>"
      ],
      "text/plain": [
       "   Unnamed: 0  pokedex_number           name german_name        japanese_name  \\\n",
       "0           0               1      Bulbasaur     Bisasam  フシギダネ (Fushigidane)   \n",
       "1           1               2        Ivysaur   Bisaknosp   フシギソウ (Fushigisou)   \n",
       "2           2               3       Venusaur    Bisaflor  フシギバナ (Fushigibana)   \n",
       "3           3               3  Mega Venusaur    Bisaflor  フシギバナ (Fushigibana)   \n",
       "4           4               4     Charmander    Glumanda      ヒトカゲ (Hitokage)   \n",
       "\n",
       "   generation  status         species  type_number type_1  ... against_ground  \\\n",
       "0           1  Normal    Seed Pokémon            2  Grass  ...            1.0   \n",
       "1           1  Normal    Seed Pokémon            2  Grass  ...            1.0   \n",
       "2           1  Normal    Seed Pokémon            2  Grass  ...            1.0   \n",
       "3           1  Normal    Seed Pokémon            2  Grass  ...            1.0   \n",
       "4           1  Normal  Lizard Pokémon            1   Fire  ...            2.0   \n",
       "\n",
       "   against_flying  against_psychic  against_bug against_rock against_ghost  \\\n",
       "0             2.0              2.0          1.0          1.0           1.0   \n",
       "1             2.0              2.0          1.0          1.0           1.0   \n",
       "2             2.0              2.0          1.0          1.0           1.0   \n",
       "3             2.0              2.0          1.0          1.0           1.0   \n",
       "4             1.0              1.0          0.5          2.0           1.0   \n",
       "\n",
       "  against_dragon  against_dark  against_steel  against_fairy  \n",
       "0            1.0           1.0            1.0            0.5  \n",
       "1            1.0           1.0            1.0            0.5  \n",
       "2            1.0           1.0            1.0            0.5  \n",
       "3            1.0           1.0            1.0            0.5  \n",
       "4            1.0           1.0            0.5            0.5  \n",
       "\n",
       "[5 rows x 51 columns]"
      ]
     },
     "execution_count": 7,
     "metadata": {},
     "output_type": "execute_result"
    }
   ],
   "source": [
    "data.head()"
   ]
  },
  {
   "cell_type": "code",
   "execution_count": 8,
   "id": "b8f46a91-2be1-41cf-8013-3daa32feee94",
   "metadata": {},
   "outputs": [
    {
     "name": "stdout",
     "output_type": "stream",
     "text": [
      "<class 'pandas.core.frame.DataFrame'>\n",
      "RangeIndex: 1045 entries, 0 to 1044\n",
      "Data columns (total 51 columns):\n",
      " #   Column            Non-Null Count  Dtype  \n",
      "---  ------            --------------  -----  \n",
      " 0   Unnamed: 0        1045 non-null   int64  \n",
      " 1   pokedex_number    1045 non-null   int64  \n",
      " 2   name              1045 non-null   object \n",
      " 3   german_name       1045 non-null   object \n",
      " 4   japanese_name     1045 non-null   object \n",
      " 5   generation        1045 non-null   int64  \n",
      " 6   status            1045 non-null   object \n",
      " 7   species           1045 non-null   object \n",
      " 8   type_number       1045 non-null   int64  \n",
      " 9   type_1            1045 non-null   object \n",
      " 10  type_2            553 non-null    object \n",
      " 11  height_m          1045 non-null   float64\n",
      " 12  weight_kg         1044 non-null   float64\n",
      " 13  abilities_number  1045 non-null   int64  \n",
      " 14  ability_1         1042 non-null   object \n",
      " 15  ability_2         516 non-null    object \n",
      " 16  ability_hidden    813 non-null    object \n",
      " 17  total_points      1045 non-null   int64  \n",
      " 18  hp                1045 non-null   int64  \n",
      " 19  attack            1045 non-null   int64  \n",
      " 20  defense           1045 non-null   int64  \n",
      " 21  sp_attack         1045 non-null   int64  \n",
      " 22  sp_defense        1045 non-null   int64  \n",
      " 23  speed             1045 non-null   int64  \n",
      " 24  catch_rate        1027 non-null   float64\n",
      " 25  base_friendship   930 non-null    float64\n",
      " 26  base_experience   925 non-null    float64\n",
      " 27  growth_rate       1044 non-null   object \n",
      " 28  egg_type_number   1045 non-null   int64  \n",
      " 29  egg_type_1        1042 non-null   object \n",
      " 30  egg_type_2        285 non-null    object \n",
      " 31  percentage_male   872 non-null    float64\n",
      " 32  egg_cycles        1044 non-null   float64\n",
      " 33  against_normal    1045 non-null   float64\n",
      " 34  against_fire      1045 non-null   float64\n",
      " 35  against_water     1045 non-null   float64\n",
      " 36  against_electric  1045 non-null   float64\n",
      " 37  against_grass     1045 non-null   float64\n",
      " 38  against_ice       1045 non-null   float64\n",
      " 39  against_fight     1045 non-null   float64\n",
      " 40  against_poison    1045 non-null   float64\n",
      " 41  against_ground    1045 non-null   float64\n",
      " 42  against_flying    1045 non-null   float64\n",
      " 43  against_psychic   1045 non-null   float64\n",
      " 44  against_bug       1045 non-null   float64\n",
      " 45  against_rock      1045 non-null   float64\n",
      " 46  against_ghost     1045 non-null   float64\n",
      " 47  against_dragon    1045 non-null   float64\n",
      " 48  against_dark      1045 non-null   float64\n",
      " 49  against_steel     1045 non-null   float64\n",
      " 50  against_fairy     1045 non-null   float64\n",
      "dtypes: float64(25), int64(13), object(13)\n",
      "memory usage: 416.5+ KB\n"
     ]
    }
   ],
   "source": [
    "data.info()"
   ]
  },
  {
   "cell_type": "code",
   "execution_count": 34,
   "id": "7a412642-d1cd-44a9-82c0-e08b990dc6df",
   "metadata": {},
   "outputs": [],
   "source": [
    "df = data[['name', 'type_1']]"
   ]
  },
  {
   "cell_type": "code",
   "execution_count": 35,
   "id": "49071337-ebdd-4e3f-8f3f-cfd4176aee87",
   "metadata": {},
   "outputs": [
    {
     "data": {
      "text/html": [
       "<div>\n",
       "<style scoped>\n",
       "    .dataframe tbody tr th:only-of-type {\n",
       "        vertical-align: middle;\n",
       "    }\n",
       "\n",
       "    .dataframe tbody tr th {\n",
       "        vertical-align: top;\n",
       "    }\n",
       "\n",
       "    .dataframe thead th {\n",
       "        text-align: right;\n",
       "    }\n",
       "</style>\n",
       "<table border=\"1\" class=\"dataframe\">\n",
       "  <thead>\n",
       "    <tr style=\"text-align: right;\">\n",
       "      <th></th>\n",
       "      <th>name</th>\n",
       "      <th>type_1</th>\n",
       "    </tr>\n",
       "  </thead>\n",
       "  <tbody>\n",
       "    <tr>\n",
       "      <th>0</th>\n",
       "      <td>Bulbasaur</td>\n",
       "      <td>Grass</td>\n",
       "    </tr>\n",
       "    <tr>\n",
       "      <th>1</th>\n",
       "      <td>Ivysaur</td>\n",
       "      <td>Grass</td>\n",
       "    </tr>\n",
       "    <tr>\n",
       "      <th>2</th>\n",
       "      <td>Venusaur</td>\n",
       "      <td>Grass</td>\n",
       "    </tr>\n",
       "    <tr>\n",
       "      <th>3</th>\n",
       "      <td>Mega Venusaur</td>\n",
       "      <td>Grass</td>\n",
       "    </tr>\n",
       "    <tr>\n",
       "      <th>4</th>\n",
       "      <td>Charmander</td>\n",
       "      <td>Fire</td>\n",
       "    </tr>\n",
       "  </tbody>\n",
       "</table>\n",
       "</div>"
      ],
      "text/plain": [
       "            name type_1\n",
       "0      Bulbasaur  Grass\n",
       "1        Ivysaur  Grass\n",
       "2       Venusaur  Grass\n",
       "3  Mega Venusaur  Grass\n",
       "4     Charmander   Fire"
      ]
     },
     "execution_count": 35,
     "metadata": {},
     "output_type": "execute_result"
    }
   ],
   "source": [
    "df.head()"
   ]
  },
  {
   "cell_type": "markdown",
   "id": "b51e41d4-78b5-4cfd-bdee-4c2fe460107d",
   "metadata": {},
   "source": [
    "<font size ='7'> Pokemons by Primary Type </font>"
   ]
  },
  {
   "cell_type": "code",
   "execution_count": 36,
   "id": "4bacd1dd-d7ed-4731-b897-dffeaa8e16be",
   "metadata": {},
   "outputs": [
    {
     "data": {
      "text/plain": [
       "type_1\n",
       "Bug          81\n",
       "Dark         46\n",
       "Dragon       41\n",
       "Electric     62\n",
       "Fairy        22\n",
       "Fighting     42\n",
       "Fire         65\n",
       "Flying        8\n",
       "Ghost        42\n",
       "Grass        91\n",
       "Ground       41\n",
       "Ice          37\n",
       "Normal      115\n",
       "Poison       41\n",
       "Psychic      81\n",
       "Rock         60\n",
       "Steel        36\n",
       "Water       134\n",
       "Name: type_1, dtype: int64"
      ]
     },
     "execution_count": 36,
     "metadata": {},
     "output_type": "execute_result"
    }
   ],
   "source": [
    "count = df.groupby('type_1')['type_1'].count()\n",
    "count"
   ]
  },
  {
   "cell_type": "code",
   "execution_count": 37,
   "id": "b4449047-92c7-41d2-b695-9e858b239918",
   "metadata": {},
   "outputs": [
    {
     "data": {
      "text/plain": [
       "<AxesSubplot:xlabel='type_1'>"
      ]
     },
     "execution_count": 37,
     "metadata": {},
     "output_type": "execute_result"
    },
    {
     "data": {
      "image/png": "[encoded data removed]",
      "text/plain": [
       "<Figure size 432x288 with 1 Axes>"
      ]
     },
     "metadata": {
      "needs_background": "light"
     },
     "output_type": "display_data"
    }
   ],
   "source": [
    "count.plot.bar()"
   ]
  },
  {
   "cell_type": "markdown",
   "id": "a8f0999c-b5a2-4b46-acad-c56747a03601",
   "metadata": {},
   "source": [
    "<font size = '7'> Pokemons by Generation </font>"
   ]
  },
  {
   "cell_type": "code",
   "execution_count": 38,
   "id": "4cff95f0-09da-453b-88b6-007352b34b21",
   "metadata": {},
   "outputs": [],
   "source": [
    "df1 = data[['name', 'generation']]"
   ]
  },
  {
   "cell_type": "code",
   "execution_count": 31,
   "id": "454d58d0-b88c-499c-96c3-e7e3877ae48c",
   "metadata": {},
   "outputs": [
    {
     "data": {
      "text/html": [
       "<div>\n",
       "<style scoped>\n",
       "    .dataframe tbody tr th:only-of-type {\n",
       "        vertical-align: middle;\n",
       "    }\n",
       "\n",
       "    .dataframe tbody tr th {\n",
       "        vertical-align: top;\n",
       "    }\n",
       "\n",
       "    .dataframe thead th {\n",
       "        text-align: right;\n",
       "    }\n",
       "</style>\n",
       "<table border=\"1\" class=\"dataframe\">\n",
       "  <thead>\n",
       "    <tr style=\"text-align: right;\">\n",
       "      <th></th>\n",
       "      <th>generation</th>\n",
       "    </tr>\n",
       "  </thead>\n",
       "  <tbody>\n",
       "    <tr>\n",
       "      <th>count</th>\n",
       "      <td>1045.000000</td>\n",
       "    </tr>\n",
       "    <tr>\n",
       "      <th>mean</th>\n",
       "      <td>4.098565</td>\n",
       "    </tr>\n",
       "    <tr>\n",
       "      <th>std</th>\n",
       "      <td>2.272788</td>\n",
       "    </tr>\n",
       "    <tr>\n",
       "      <th>min</th>\n",
       "      <td>1.000000</td>\n",
       "    </tr>\n",
       "    <tr>\n",
       "      <th>25%</th>\n",
       "      <td>2.000000</td>\n",
       "    </tr>\n",
       "    <tr>\n",
       "      <th>50%</th>\n",
       "      <td>4.000000</td>\n",
       "    </tr>\n",
       "    <tr>\n",
       "      <th>75%</th>\n",
       "      <td>6.000000</td>\n",
       "    </tr>\n",
       "    <tr>\n",
       "      <th>max</th>\n",
       "      <td>8.000000</td>\n",
       "    </tr>\n",
       "  </tbody>\n",
       "</table>\n",
       "</div>"
      ],
      "text/plain": [
       "        generation\n",
       "count  1045.000000\n",
       "mean      4.098565\n",
       "std       2.272788\n",
       "min       1.000000\n",
       "25%       2.000000\n",
       "50%       4.000000\n",
       "75%       6.000000\n",
       "max       8.000000"
      ]
     },
     "execution_count": 31,
     "metadata": {},
     "output_type": "execute_result"
    }
   ],
   "source": [
    "df1.describe()"
   ]
  },
  {
   "cell_type": "code",
   "execution_count": 32,
   "id": "81f044d1-8c93-471e-a662-1c18cce98036",
   "metadata": {},
   "outputs": [
    {
     "data": {
      "text/plain": [
       "8"
      ]
     },
     "execution_count": 32,
     "metadata": {},
     "output_type": "execute_result"
    }
   ],
   "source": [
    "df1['generation'].max()"
   ]
  },
  {
   "cell_type": "code",
   "execution_count": 33,
   "id": "f1ea69e9-6a85-4e56-b199-69c487e364b7",
   "metadata": {},
   "outputs": [
    {
     "data": {
      "text/plain": [
       "<AxesSubplot:>"
      ]
     },
     "execution_count": 33,
     "metadata": {},
     "output_type": "execute_result"
    },
    {
     "data": {
      "image/png": "[encoded data removed]",
      "text/plain": [
       "<Figure size 432x288 with 1 Axes>"
      ]
     },
     "metadata": {
      "needs_background": "light"
     },
     "output_type": "display_data"
    }
   ],
   "source": [
    "bins = [1, 2, 3, 4, 5, 6, 7, 8]\n",
    "df1['generation'].hist(bins=bins)"
   ]
  },
  {
   "cell_type": "code",
   "execution_count": null,
   "id": "daa56bce-67b1-4a60-9a21-9014003cf877",
   "metadata": {},
   "outputs": [],
   "source": []
  }
 ],
 "metadata": {
  "kernelspec": {
   "display_name": "Python 3 (ipykernel)",
   "language": "python",
   "name": "python3"
  },
  "language_info": {
   "codemirror_mode": {
    "name": "ipython",
    "version": 3
   },
   "file_extension": ".py",
   "mimetype": "text/x-python",
   "name": "python",
   "nbconvert_exporter": "python",
   "pygments_lexer": "ipython3",
   "version": "3.8.13"
  }
 },
 "nbformat": 4,
 "nbformat_minor": 5
}
